{
 "cells": [
  {
   "cell_type": "code",
   "execution_count": null,
   "outputs": [],
   "source": [
    "%%capture\n",
    "\n",
    "!git clone https://github.com/hudeven/text\n",
    "!git clone https://github.com/facebookresearch/pytext\n"
   ],
   "metadata": {
    "collapsed": false,
    "pycharm": {
     "name": "#%%\n"
    }
   }
  },
  {
   "cell_type": "code",
   "execution_count": null,
   "outputs": [],
   "source": [
    "%%capture\n",
    "\n",
    "!pip install --upgrade --force-reinstall ./text/stl_text/dataframes/datasets;\n",
    "!pip install --upgrade --force-reinstall ./text;\n",
    "\n",
    "!pip install --upgrade --force-reinstall ./pytext;\n",
    "!pip install --upgrade --force-reinstall tensorboard;\n",
    "\n",
    "!pip install --upgrade --force-reinstall --pre torch torchtext -f https://download.pytorch.org/whl/nightly/cu101/torch_nightly.html;\n",
    "!pip install --upgrade --force-reinstall datasets;\n",
    "\n",
    "!pip install pytorch-lightning"
   ],
   "metadata": {
    "collapsed": false,
    "pycharm": {
     "name": "#%%\n"
    }
   }
  },
  {
   "cell_type": "code",
   "execution_count": 1,
   "metadata": {
    "collapsed": true
   },
   "outputs": [
    {
     "name": "stderr",
     "output_type": "stream",
     "text": [
      "WARNING:root:This caffe2 python run failed to load cuda module:No module named 'caffe2.python.caffe2_pybind11_state_gpu',and AMD hip module:No module named 'caffe2.python.caffe2_pybind11_state_hip'.Will run in CPU only mode.\n",
      "Install apex from https://github.com/NVIDIA/apex/.\n"
     ]
    }
   ],
   "source": [
    "import os\n",
    "\n",
    "import torch\n",
    "from pytorch_lightning import Trainer\n",
    "from stl_text.ops.utils.arrow import convert_csv_to_arrow\n",
    "from stl_text.datamodule import DocClassificationDataModule\n",
    "from task import XlmrDocClassificationTask"
   ]
  },
  {
   "cell_type": "code",
   "execution_count": 8,
   "outputs": [
    {
     "name": "stderr",
     "output_type": "stream",
     "text": [
      "/Users/stevenliu/opt/anaconda3/envs/fun/lib/python3.7/site-packages/ipykernel/ipkernel.py:287: DeprecationWarning: `should_run_async` will not call `transform_cell` automatically in the future. Please pass the result to `transformed_cell` argument and any exception that happen during thetransform in `preprocessing_exc_tuple` in IPython 7.17 and above.\n",
      "  and should_run_async(code)\n",
      "WARNING:stl_text.ops.utils.arrow:converted to arrow and saved to ./glue_sst2_tiny/train\n",
      "WARNING:stl_text.ops.utils.arrow:converted to arrow and saved to ./glue_sst2_tiny/valid\n",
      "WARNING:stl_text.ops.utils.arrow:converted to arrow and saved to ./glue_sst2_tiny/test\n"
     ]
    },
    {
     "data": {
      "text/plain": "HBox(children=(FloatProgress(value=0.0, max=20.0), HTML(value='')))",
      "application/vnd.jupyter.widget-view+json": {
       "version_major": 2,
       "version_minor": 0,
       "model_id": "c49662ef4a61422dbbe9b865ecbceb27"
      }
     },
     "metadata": {},
     "output_type": "display_data"
    },
    {
     "name": "stdout",
     "output_type": "stream",
     "text": [
      "\n",
      "\n",
      "\n",
      "\n",
      "\n",
      "\n",
      "\n",
      "\n",
      "\n"
     ]
    },
    {
     "data": {
      "text/plain": "HBox(children=(FloatProgress(value=0.0, max=20.0), HTML(value='')))",
      "application/vnd.jupyter.widget-view+json": {
       "version_major": 2,
       "version_minor": 0,
       "model_id": "2b4c6d19006744b6b922cc2c3b12eb41"
      }
     },
     "metadata": {},
     "output_type": "display_data"
    },
    {
     "data": {
      "text/plain": "HBox(children=(FloatProgress(value=0.0, max=20.0), HTML(value='')))",
      "application/vnd.jupyter.widget-view+json": {
       "version_major": 2,
       "version_minor": 0,
       "model_id": "6e59c723c84f4e90b55dad8c4b06bb31"
      }
     },
     "metadata": {},
     "output_type": "display_data"
    },
    {
     "data": {
      "text/plain": "HBox(children=(FloatProgress(value=0.0, max=20.0), HTML(value='')))",
      "application/vnd.jupyter.widget-view+json": {
       "version_major": 2,
       "version_minor": 0,
       "model_id": "4e9d4c08fe534efebbb30c03c5b70148"
      }
     },
     "metadata": {},
     "output_type": "display_data"
    },
    {
     "data": {
      "text/plain": "HBox(children=(FloatProgress(value=0.0, max=20.0), HTML(value='')))",
      "application/vnd.jupyter.widget-view+json": {
       "version_major": 2,
       "version_minor": 0,
       "model_id": "3e708fe7cc934ae6a2bbed0006c63db4"
      }
     },
     "metadata": {},
     "output_type": "display_data"
    },
    {
     "data": {
      "text/plain": "HBox(children=(FloatProgress(value=0.0, max=20.0), HTML(value='')))",
      "application/vnd.jupyter.widget-view+json": {
       "version_major": 2,
       "version_minor": 0,
       "model_id": "c3ea799eb3534a47872bb2dff032bcfb"
      }
     },
     "metadata": {},
     "output_type": "display_data"
    },
    {
     "data": {
      "text/plain": "HBox(children=(FloatProgress(value=0.0, max=20.0), HTML(value='')))",
      "application/vnd.jupyter.widget-view+json": {
       "version_major": 2,
       "version_minor": 0,
       "model_id": "8a1a221694914d2a83126a34c8f47c8d"
      }
     },
     "metadata": {},
     "output_type": "display_data"
    },
    {
     "data": {
      "text/plain": "HBox(children=(FloatProgress(value=0.0, max=20.0), HTML(value='')))",
      "application/vnd.jupyter.widget-view+json": {
       "version_major": 2,
       "version_minor": 0,
       "model_id": "c949b72b2dd641a6a6ea1aed012d2734"
      }
     },
     "metadata": {},
     "output_type": "display_data"
    },
    {
     "data": {
      "text/plain": "HBox(children=(FloatProgress(value=0.0, max=20.0), HTML(value='')))",
      "application/vnd.jupyter.widget-view+json": {
       "version_major": 2,
       "version_minor": 0,
       "model_id": "1839924147924734abcdfb3e7d49e372"
      }
     },
     "metadata": {},
     "output_type": "display_data"
    }
   ],
   "source": [
    "# convert csv to arrow format (only required for the first time)\n",
    "data_path = \"./glue_sst2_tiny\"\n",
    "for split in (\"train.tsv\", \"valid.tsv\", \"test.tsv\"):\n",
    "    split_path = os.path.join(data_path, split)\n",
    "    convert_csv_to_arrow(split_path)\n",
    "\n",
    "# setup datamodule\n",
    "datamodule = DocClassificationDataModule(data_path=data_path, batch_size=8, drop_last=True)\n",
    "datamodule.setup(\"fit\")"
   ],
   "metadata": {
    "collapsed": false,
    "pycharm": {
     "name": "#%%\n"
    }
   }
  },
  {
   "cell_type": "code",
   "execution_count": 9,
   "outputs": [
    {
     "name": "stdout",
     "output_type": "stream",
     "text": [
      "batch 0: \n",
      "{'label_id': tensor([1, 1, 0, 0, 1, 1, 0, 0]), 'seq_len': tensor([20, 20, 19, 19, 18, 16, 10, 10]), 'token_ids': tensor([[ 68,  69,  70,  71,  14,  72,  73,  32,  14,  74,  28,  52,   1,  75,\n",
      "          76,  77,  78,   4,  79,   8],\n",
      "        [  2, 168,  30, 169, 170, 100, 171,  16, 172, 173,  32,  30, 174,  30,\n",
      "         175,  30,   4, 176, 177,   8],\n",
      "        [128,  28,  52, 129, 100,   2, 130,  77,  48, 131, 132, 133,  14, 134,\n",
      "         135,  28, 136, 137, 128,   0],\n",
      "        [ 80, 210, 211, 212,  30, 213,   2, 214, 176, 215,  39,  77, 216,  30,\n",
      "         217, 218,  77, 175,   8,   0],\n",
      "        [ 28, 178,  35, 179,   4, 153, 180,   2, 181,  47, 182, 183,   1, 184,\n",
      "         185, 186, 187,   8,   0,   0],\n",
      "        [ 28, 105, 106,  77,  28, 107, 108,  28,  52, 109,   4, 108,  28, 110,\n",
      "         111,   8,   0,   0,   0,   0],\n",
      "        [ 61,  62,  63,  64,   1,  65,  47,  66,  67,   8,   0,   0,   0,   0,\n",
      "           0,   0,   0,   0,   0,   0],\n",
      "        [128,  28, 127,  18, 206,   2, 207, 208, 209,   8,   0,   0,   0,   0,\n",
      "           0,   0,   0,   0,   0,   0]])}\n",
      "batch 1: \n",
      "{'label_id': tensor([0, 1, 0, 0, 1, 1, 1, 1]), 'seq_len': tensor([33, 32, 30, 25, 23, 21, 20, 20]), 'token_ids': tensor([[ 80,  81,  82,  83,  30,  84,  77,  85,  86,  23,  87,  23,  88,  89,\n",
      "          90,  91,  92,  93,  94,  95,  96,  30,  97,  98,  99, 100, 101,  14,\n",
      "         102,  14, 103, 104,   8],\n",
      "        [188, 189, 190,   2, 191, 140, 192, 193,  16, 194, 195, 196, 197,  30,\n",
      "           4,  80, 198, 199, 200,  78,  30, 201,   1,  23, 202, 203,  23, 201,\n",
      "         204,  80, 205,   8,   0],\n",
      "        [  0, 112,   2, 113, 114,  77, 115,  14, 116,  28, 117,  77, 118, 119,\n",
      "          30, 120, 121,  30, 122, 123,  30,   4, 124, 125,  36,  80,  28, 126,\n",
      "         127,   8,   0,   0,   0],\n",
      "        [143, 151, 152, 153,  84, 154, 155, 156, 157, 158, 159, 160,  47, 161,\n",
      "         162, 163, 164,  28, 127, 165, 166, 167,   4,  48,   8,   0,   0,   0,\n",
      "           0,   0,   0,   0,   0],\n",
      "        [138, 139, 140, 131, 141,   4, 142, 137,  30, 143, 144, 145,  30, 146,\n",
      "         147,   0,   1,  95, 148, 149,  14, 150,   8,   0,   0,   0,   0,   0,\n",
      "           0,   0,   0,   0,   0],\n",
      "        [ 45,  46,  47,  48,   4,   2,  49,  50,  51,  30,  28,  52,  18,   2,\n",
      "          53,  54,  55,  56,  57,  58,   8,   0,   0,   0,   0,   0,   0,   0,\n",
      "           0,   0,   0,   0,   0],\n",
      "        [ 12,  13,  14,  15,  16,  17,  18,  19,  14,  20,   2,  21,  22,  23,\n",
      "           2,  24,  25,  26,  27,   8,   0,   0,   0,   0,   0,   0,   0,   0,\n",
      "           0,   0,   0,   0,   0],\n",
      "        [ 28,  29,  30,  31,  30,  32,  30,  33,   4,  34,  35,  36,  37,  38,\n",
      "          28,  39,   1,  40,  41,   8,   0,   0,   0,   0,   0,   0,   0,   0,\n",
      "           0,   0,   0,   0,   0]])}\n"
     ]
    }
   ],
   "source": [
    "for i, batch in enumerate(datamodule.train_dataloader()):\n",
    "    print(f\"batch {i}: \\n{batch}\")"
   ],
   "metadata": {
    "collapsed": false,
    "pycharm": {
     "name": "#%%\n"
    }
   }
  },
  {
   "cell_type": "code",
   "execution_count": null,
   "outputs": [],
   "source": [
    "# construct task\n",
    "task = XlmrDocClassificationTask(text_transform=datamodule.text_transform, num_class=2,\n",
    "                                 lr=0.01)\n",
    "\n",
    "# train model\n",
    "trainer = Trainer(max_epochs=5, fast_dev_run=True)\n",
    "trainer.fit(task, datamodule=datamodule)\n",
    "\n",
    "# export to TorchScript\n",
    "export_path = \"/tmp/doc_task.pt1\"\n",
    "task.to_torchscript(\"/tmp/doc_task.pt1\")\n",
    "with open(export_path, \"rb\") as f:\n",
    "    ts_module = torch.load(f)\n",
    "    print(ts_module(text_batch=[\"hello world\", \"attend is all your need!\"]))"
   ],
   "metadata": {
    "collapsed": false,
    "pycharm": {
     "name": "#%%\n"
    }
   }
  }
 ],
 "metadata": {
  "kernelspec": {
   "display_name": "Python 3",
   "language": "python",
   "name": "python3"
  },
  "language_info": {
   "codemirror_mode": {
    "name": "ipython",
    "version": 2
   },
   "file_extension": ".py",
   "mimetype": "text/x-python",
   "name": "python",
   "nbconvert_exporter": "python",
   "pygments_lexer": "ipython2",
   "version": "2.7.6"
  }
 },
 "nbformat": 4,
 "nbformat_minor": 0
}